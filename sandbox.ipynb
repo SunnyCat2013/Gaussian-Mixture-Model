{
 "cells": [
  {
   "cell_type": "code",
   "execution_count": 19,
   "metadata": {},
   "outputs": [],
   "source": [
    "from math import sqrt, pi, exp\n",
    "\n",
    "class Gaussian(object):\n",
    "    def __init__(self, miu = 0, sigma = 1):\n",
    "        self.sigma = sigma\n",
    "        self.miu = miu\n",
    "    \n",
    "    def value(self, digit):\n",
    "#         print 'exp((digit - self.miu) ** 2 / (2 * (self.sigma ** 2))) / (sqrt(2 * pi) * self.sigma)', exp((digit - self.miu) ** 2 / (2 * (self.sigma ** 2))) / (sqrt(2 * pi) * self.sigma)\n",
    "        return exp((digit - self.miu) ** 2 / (2 * (self.sigma ** 2))) / (sqrt(2 * pi) * self.sigma)\n",
    "    def updateParameter(self, miu = None, sigma = None):\n",
    "        if sigma is not None:\n",
    "            self.sigma = sigma\n",
    "        if miu is not None:\n",
    "            self.miu = miu\n",
    "def differ(arr1, arr2, threshold):\n",
    "    return sqrt(sum([(a1 - a2) ** 2 for a1, a2 in zip(arr1, arr2)])) > threshold\n",
    "            \n",
    "class GMM(object):\n",
    "    def __init__(self, data, K = 10):\n",
    "        # init parameters\n",
    "        self.K = K\n",
    "        self.data = data\n",
    "        \n",
    "        self.alpha = [1.0 / K] * K # each model gets an alpha\n",
    "        self.gaussian = [Gaussian()] * K\n",
    "    def value(self, digit):\n",
    "        return sum(self.probability(digit))\n",
    "    \n",
    "    def probability(self, digit):\n",
    "        return [a * g.value(digit) for a, g in zip(self.alph, self.gaussian)]\n",
    "        \n",
    "    def train(self, threshold  = 0.01):\n",
    "        \"\"\"\n",
    "        gamma: size[len(self.data), K]\n",
    "        \"\"\"\n",
    "        old_miu =  [10] * len(self.gaussian) \n",
    "        new_miu = [g.miu for g in self.gaussian]\n",
    "        while differ(old_miu, new_miu):\n",
    "            gamma = []\n",
    "            for d in self.data:\n",
    "                dprob = self.probability(d)\n",
    "                dsum = sum(dprob)\n",
    "                gamma.append([prob * 1.0 / dsum for prob in dprob])\n",
    "            assert len(self.data) == len(gamma)\n",
    "            \n",
    "            reversed_gamma = []\n",
    "            \n",
    "            for i in range(self.K):\n",
    "                cur_rev_gamma = []\n",
    "                for j in range(len(gamma)):\n",
    "                    cur_rev_gamma.append(gamma[j][i])\n",
    "                reversed_gamma.append(cur_rev_gamma)\n",
    "                \n",
    "            nex_miu = []\n",
    "                \n",
    "                \n",
    "        "
   ]
  },
  {
   "cell_type": "code",
   "execution_count": 20,
   "metadata": {},
   "outputs": [
    {
     "data": {
      "text/plain": [
       "2.0"
      ]
     },
     "execution_count": 20,
     "metadata": {},
     "output_type": "execute_result"
    }
   ],
   "source": [
    "sqrt(4)"
   ]
  },
  {
   "cell_type": "code",
   "execution_count": 21,
   "metadata": {},
   "outputs": [
    {
     "data": {
      "text/plain": [
       "3.141592653589793"
      ]
     },
     "execution_count": 21,
     "metadata": {},
     "output_type": "execute_result"
    }
   ],
   "source": [
    "pi"
   ]
  },
  {
   "cell_type": "code",
   "execution_count": 22,
   "metadata": {},
   "outputs": [
    {
     "data": {
      "text/plain": [
       "2.718281828459045"
      ]
     },
     "execution_count": 22,
     "metadata": {},
     "output_type": "execute_result"
    }
   ],
   "source": [
    "exp(1)"
   ]
  },
  {
   "cell_type": "code",
   "execution_count": 23,
   "metadata": {},
   "outputs": [
    {
     "name": "stdout",
     "output_type": "stream",
     "text": [
      "0.398942280401\n"
     ]
    }
   ],
   "source": [
    "a = Gaussian()\n",
    "print a.value(0)"
   ]
  },
  {
   "cell_type": "code",
   "execution_count": 24,
   "metadata": {},
   "outputs": [
    {
     "data": {
      "text/plain": [
       "0.3989422804014327"
      ]
     },
     "execution_count": 24,
     "metadata": {},
     "output_type": "execute_result"
    }
   ],
   "source": [
    "1 / (sqrt(2 * pi))"
   ]
  },
  {
   "cell_type": "code",
   "execution_count": null,
   "metadata": {},
   "outputs": [],
   "source": []
  },
  {
   "cell_type": "code",
   "execution_count": 26,
   "metadata": {},
   "outputs": [
    {
     "data": {
      "text/plain": [
       "False"
      ]
     },
     "execution_count": 26,
     "metadata": {},
     "output_type": "execute_result"
    }
   ],
   "source": [
    "differ([1], [1], 0.1)"
   ]
  },
  {
   "cell_type": "code",
   "execution_count": 27,
   "metadata": {},
   "outputs": [
    {
     "data": {
      "text/plain": [
       "0"
      ]
     },
     "execution_count": 27,
     "metadata": {},
     "output_type": "execute_result"
    }
   ],
   "source": [
    "a.miu"
   ]
  },
  {
   "cell_type": "code",
   "execution_count": 28,
   "metadata": {},
   "outputs": [
    {
     "data": {
      "text/plain": [
       "1"
      ]
     },
     "execution_count": 28,
     "metadata": {},
     "output_type": "execute_result"
    }
   ],
   "source": [
    "a.sigma"
   ]
  },
  {
   "cell_type": "code",
   "execution_count": null,
   "metadata": {},
   "outputs": [],
   "source": []
  }
 ],
 "metadata": {
  "kernelspec": {
   "display_name": "Python 2",
   "language": "python",
   "name": "python2"
  },
  "language_info": {
   "codemirror_mode": {
    "name": "ipython",
    "version": 2
   },
   "file_extension": ".py",
   "mimetype": "text/x-python",
   "name": "python",
   "nbconvert_exporter": "python",
   "pygments_lexer": "ipython2",
   "version": "2.7.15"
  }
 },
 "nbformat": 4,
 "nbformat_minor": 2
}
